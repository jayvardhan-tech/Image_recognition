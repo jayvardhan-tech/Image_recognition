{
  "nbformat": 4,
  "nbformat_minor": 0,
  "metadata": {
    "colab": {
      "name": "Image recognition.ipynb",
      "provenance": [],
      "authorship_tag": "ABX9TyNFsewXTtOaru2fxMHd3B0Q",
      "include_colab_link": true
    },
    "kernelspec": {
      "name": "python3",
      "display_name": "Python 3"
    },
    "language_info": {
      "name": "python"
    }
  },
  "cells": [
    {
      "cell_type": "markdown",
      "metadata": {
        "id": "view-in-github",
        "colab_type": "text"
      },
      "source": [
        "<a href=\"https://colab.research.google.com/github/jayvardhan-tech/Image_recognition/blob/main/Image_recognition.ipynb\" target=\"_parent\"><img src=\"https://colab.research.google.com/assets/colab-badge.svg\" alt=\"Open In Colab\"/></a>"
      ]
    },
    {
      "cell_type": "markdown",
      "metadata": {
        "id": "4kYHQKDeQY9K"
      },
      "source": [
        "**mnist** **dataset**\n",
        "**FASHION** **MNIST** **DATASET**"
      ]
    },
    {
      "cell_type": "code",
      "metadata": {
        "id": "ahyIfSfEQnXN",
        "colab": {
          "base_uri": "https://localhost:8080/"
        },
        "outputId": "75b7347d-97de-4032-8706-95a346d6c97b"
      },
      "source": [
        "from tensorflow.keras.datasets import fashion_mnist\n",
        "(x_train,y_train), (x_test,y_test) = fashion_mnist.load_data()"
      ],
      "execution_count": 1,
      "outputs": [
        {
          "output_type": "stream",
          "name": "stdout",
          "text": [
            "Downloading data from https://storage.googleapis.com/tensorflow/tf-keras-datasets/train-labels-idx1-ubyte.gz\n",
            "32768/29515 [=================================] - 0s 0us/step\n",
            "40960/29515 [=========================================] - 0s 0us/step\n",
            "Downloading data from https://storage.googleapis.com/tensorflow/tf-keras-datasets/train-images-idx3-ubyte.gz\n",
            "26427392/26421880 [==============================] - 0s 0us/step\n",
            "26435584/26421880 [==============================] - 0s 0us/step\n",
            "Downloading data from https://storage.googleapis.com/tensorflow/tf-keras-datasets/t10k-labels-idx1-ubyte.gz\n",
            "16384/5148 [===============================================================================================] - 0s 0us/step\n",
            "Downloading data from https://storage.googleapis.com/tensorflow/tf-keras-datasets/t10k-images-idx3-ubyte.gz\n",
            "4423680/4422102 [==============================] - 0s 0us/step\n",
            "4431872/4422102 [==============================] - 0s 0us/step\n"
          ]
        }
      ]
    },
    {
      "cell_type": "code",
      "metadata": {
        "colab": {
          "base_uri": "https://localhost:8080/"
        },
        "id": "R1kHjJRUTEVi",
        "outputId": "e4283408-7836-43c4-a3ef-6bfe6ec82cea"
      },
      "source": [
        "print(x_train.shape)\n",
        "print(x_test.shape)\n",
        "print(y_train.shape)\n",
        "print(y_test.shape)"
      ],
      "execution_count": 2,
      "outputs": [
        {
          "output_type": "stream",
          "name": "stdout",
          "text": [
            "(60000, 28, 28)\n",
            "(10000, 28, 28)\n",
            "(60000,)\n",
            "(10000,)\n"
          ]
        }
      ]
    },
    {
      "cell_type": "code",
      "metadata": {
        "colab": {
          "base_uri": "https://localhost:8080/"
        },
        "id": "dqH9NGnzPiVi",
        "outputId": "1e72397f-202a-4d6d-fe2b-f93aa263e17c"
      },
      "source": [
        "#labels\n",
        "label = 't-shirt/top trouser pullover dress coat sandal shirt sneaker bag ankle-boot'\n",
        "label = label.split()\n",
        "label"
      ],
      "execution_count": 3,
      "outputs": [
        {
          "output_type": "execute_result",
          "data": {
            "text/plain": [
              "['t-shirt/top',\n",
              " 'trouser',\n",
              " 'pullover',\n",
              " 'dress',\n",
              " 'coat',\n",
              " 'sandal',\n",
              " 'shirt',\n",
              " 'sneaker',\n",
              " 'bag',\n",
              " 'ankle-boot']"
            ]
          },
          "metadata": {},
          "execution_count": 3
        }
      ]
    },
    {
      "cell_type": "code",
      "metadata": {
        "colab": {
          "base_uri": "https://localhost:8080/"
        },
        "id": "paVq_q83UDzu",
        "outputId": "6cfb2185-9798-4783-8927-c09c54952c8e"
      },
      "source": [
        "x_train[1800].max()"
      ],
      "execution_count": 4,
      "outputs": [
        {
          "output_type": "execute_result",
          "data": {
            "text/plain": [
              "255"
            ]
          },
          "metadata": {},
          "execution_count": 4
        }
      ]
    },
    {
      "cell_type": "code",
      "metadata": {
        "colab": {
          "base_uri": "https://localhost:8080/"
        },
        "id": "gXwAhdrTUHCw",
        "outputId": "27d031ec-439a-475b-e6cf-f095a58be140"
      },
      "source": [
        "x_train[1800].min()"
      ],
      "execution_count": null,
      "outputs": [
        {
          "output_type": "execute_result",
          "data": {
            "text/plain": [
              "0"
            ]
          },
          "metadata": {},
          "execution_count": 5
        }
      ]
    },
    {
      "cell_type": "code",
      "metadata": {
        "id": "2nB1eMiFUJyn"
      },
      "source": [
        "#normalise the data of x_train\n",
        "#simplest way to normalize is devide by 255\n",
        "x_tarin = x_train/255.0\n",
        "x_test = x_test/255.0"
      ],
      "execution_count": 5,
      "outputs": []
    },
    {
      "cell_type": "code",
      "metadata": {
        "colab": {
          "base_uri": "https://localhost:8080/",
          "height": 282
        },
        "id": "8nCyMA6DUska",
        "outputId": "79bf81db-407f-40c6-bba5-51408d289f04"
      },
      "source": [
        "import matplotlib.pyplot as plt\n",
        "plt.imshow(x_train[45],cmap = 'gray')\n",
        "plt.show()\n",
        "print(f\"output :{label[y_train[45]]}\")   #formatted dtring to print the output\n",
        "#output"
      ],
      "execution_count": 18,
      "outputs": [
        {
          "output_type": "display_data",
          "data": {
            "image/png": "[encoded data removed]",
            "text/plain": [
              "<Figure size 432x288 with 1 Axes>"
            ]
          },
          "metadata": {
            "needs_background": "light"
          }
        },
        {
          "output_type": "stream",
          "name": "stdout",
          "text": [
            "output :pullover\n"
          ]
        }
      ]
    },
    {
      "cell_type": "code",
      "metadata": {
        "colab": {
          "base_uri": "https://localhost:8080/"
        },
        "id": "c-eq1biyWDKA",
        "outputId": "960f0e45-2773-439a-be26-b2a750ae6438"
      },
      "source": [
        "x_train[1751].shape"
      ],
      "execution_count": 7,
      "outputs": [
        {
          "output_type": "execute_result",
          "data": {
            "text/plain": [
              "(28, 28)"
            ]
          },
          "metadata": {},
          "execution_count": 7
        }
      ]
    },
    {
      "cell_type": "code",
      "metadata": {
        "id": "psF0TcrJmZy8"
      },
      "source": [
        "\n",
        "#define the neural network architecture\n",
        "from tensorflow import keras\n",
        "model = keras.models.Sequential()      #simple neural network\n",
        "#3 layer\n",
        "#1 input\n",
        "#2 hidden\n",
        "#3 output\n",
        "# to add neuron to all 3 layer\n",
        "model.add(keras.layers.Flatten())      #28*28 grayscale images = 784 neurons for input layer \n",
        "model.add(keras.layers.Dense(512,input_shape= (28,28), activation = 'relu'))    #hidden layer neuron #2/3*784-10 = 512\n",
        "model.add(keras.layers.Dense(10,activation = 'softmax'))\n"
      ],
      "execution_count": 8,
      "outputs": []
    },
    {
      "cell_type": "code",
      "metadata": {
        "id": "14BbjLlQrb_h"
      },
      "source": [
        "model.compile(optimizer = 'adam', loss = 'sparse_categorical_crossentropy', metrics = ['accuracy'])"
      ],
      "execution_count": 9,
      "outputs": []
    },
    {
      "cell_type": "code",
      "metadata": {
        "colab": {
          "base_uri": "https://localhost:8080/"
        },
        "id": "_J7SLR1iYRTU",
        "outputId": "8dbeeb06-5314-4786-f701-4a00ad5744da"
      },
      "source": [
        " model.fit(x_train,y_train, epochs= 10)\n",
        "#60000/32=1875"
      ],
      "execution_count": 10,
      "outputs": [
        {
          "output_type": "stream",
          "name": "stdout",
          "text": [
            "Epoch 1/10\n",
            "1875/1875 [==============================] - 8s 4ms/step - loss: 4.7515 - accuracy: 0.7563\n",
            "Epoch 2/10\n",
            "1875/1875 [==============================] - 7s 4ms/step - loss: 0.5380 - accuracy: 0.8168\n",
            "Epoch 3/10\n",
            "1875/1875 [==============================] - 7s 4ms/step - loss: 0.5059 - accuracy: 0.8288\n",
            "Epoch 4/10\n",
            "1875/1875 [==============================] - 7s 4ms/step - loss: 0.5011 - accuracy: 0.8329\n",
            "Epoch 5/10\n",
            "1875/1875 [==============================] - 7s 4ms/step - loss: 0.4750 - accuracy: 0.8390\n",
            "Epoch 6/10\n",
            "1875/1875 [==============================] - 7s 4ms/step - loss: 0.4804 - accuracy: 0.8397\n",
            "Epoch 7/10\n",
            "1875/1875 [==============================] - 7s 4ms/step - loss: 0.4611 - accuracy: 0.8439\n",
            "Epoch 8/10\n",
            "1875/1875 [==============================] - 7s 4ms/step - loss: 0.4602 - accuracy: 0.8455\n",
            "Epoch 9/10\n",
            "1875/1875 [==============================] - 7s 4ms/step - loss: 0.4524 - accuracy: 0.8465\n",
            "Epoch 10/10\n",
            "1875/1875 [==============================] - 7s 4ms/step - loss: 0.4539 - accuracy: 0.8483\n"
          ]
        },
        {
          "output_type": "execute_result",
          "data": {
            "text/plain": [
              "<keras.callbacks.History at 0x7f562e5d6790>"
            ]
          },
          "metadata": {},
          "execution_count": 10
        }
      ]
    },
    {
      "cell_type": "code",
      "metadata": {
        "colab": {
          "base_uri": "https://localhost:8080/"
        },
        "id": "nLuuAySIZTb4",
        "outputId": "e2900010-d0be-4110-c794-689931f54400"
      },
      "source": [
        "mod1 = model.fit(x_train,y_train, epochs= 10)"
      ],
      "execution_count": 11,
      "outputs": [
        {
          "output_type": "stream",
          "name": "stdout",
          "text": [
            "Epoch 1/10\n",
            "1875/1875 [==============================] - 7s 4ms/step - loss: 0.4531 - accuracy: 0.8487\n",
            "Epoch 2/10\n",
            "1875/1875 [==============================] - 7s 4ms/step - loss: 0.4485 - accuracy: 0.8493\n",
            "Epoch 3/10\n",
            "1875/1875 [==============================] - 7s 4ms/step - loss: 0.4449 - accuracy: 0.8505\n",
            "Epoch 4/10\n",
            "1875/1875 [==============================] - 7s 4ms/step - loss: 0.4458 - accuracy: 0.8521\n",
            "Epoch 5/10\n",
            "1875/1875 [==============================] - 7s 4ms/step - loss: 0.4409 - accuracy: 0.8515\n",
            "Epoch 6/10\n",
            "1875/1875 [==============================] - 7s 4ms/step - loss: 0.4389 - accuracy: 0.8512\n",
            "Epoch 7/10\n",
            "1875/1875 [==============================] - 7s 4ms/step - loss: 0.4397 - accuracy: 0.8524\n",
            "Epoch 8/10\n",
            "1875/1875 [==============================] - 7s 4ms/step - loss: 0.4286 - accuracy: 0.8550\n",
            "Epoch 9/10\n",
            "1875/1875 [==============================] - 8s 4ms/step - loss: 0.4437 - accuracy: 0.8510\n",
            "Epoch 10/10\n",
            "1875/1875 [==============================] - 7s 4ms/step - loss: 0.4297 - accuracy: 0.8557\n"
          ]
        }
      ]
    },
    {
      "cell_type": "code",
      "metadata": {
        "colab": {
          "base_uri": "https://localhost:8080/"
        },
        "id": "-FjIgsrtZrAB",
        "outputId": "756f1191-656d-4c43-a3f3-6bd2368b5dbc"
      },
      "source": [
        "model.get_weights()"
      ],
      "execution_count": 12,
      "outputs": [
        {
          "output_type": "execute_result",
          "data": {
            "text/plain": [
              "[array([[ 0.04044428,  0.03136127,  0.0102523 , ..., -0.00623403,\n",
              "          0.0355778 ,  0.04923193],\n",
              "        [-0.04655626,  0.05497133,  0.05738375, ..., -0.01800632,\n",
              "         -0.0247937 ,  0.0121918 ],\n",
              "        [ 0.0063019 ,  0.01158256, -0.05809315, ..., -0.00899003,\n",
              "         -0.01958709,  0.00083801],\n",
              "        ...,\n",
              "        [ 0.02230641,  0.00597649, -0.07406677, ...,  0.00109084,\n",
              "         -0.0502635 , -0.02981893],\n",
              "        [ 0.01242392,  0.06026156, -0.07209396, ...,  0.00702526,\n",
              "         -0.02898844,  0.03042712],\n",
              "        [ 0.05755758, -0.00592165,  0.05177277, ...,  0.03362944,\n",
              "         -0.01620156,  0.02234929]], dtype=float32),\n",
              " array([-3.04549374e-02,  2.57628784e-03, -2.62102000e-02, -1.90521162e-02,\n",
              "        -3.59043814e-02, -2.44756951e-03, -2.05359980e-02, -5.08458028e-03,\n",
              "        -7.33815553e-03, -1.42610129e-02,  7.50825480e-02, -4.80570644e-02,\n",
              "        -1.62233543e-02, -1.33573338e-02, -9.61539056e-03, -2.96963733e-02,\n",
              "        -5.11892315e-04, -2.11047549e-02, -1.55863436e-02, -2.33864021e-02,\n",
              "        -1.99796483e-02,  4.33172157e-04, -5.44152260e-02, -1.38436947e-02,\n",
              "        -1.62470322e-02, -2.46074777e-02, -3.67295668e-02, -2.87163481e-02,\n",
              "        -5.07984459e-02, -3.48435044e-02, -2.51136385e-02, -2.10935920e-02,\n",
              "         9.57373809e-03, -3.67202796e-02, -3.25510651e-02, -3.32369506e-02,\n",
              "        -1.58435646e-02, -2.96207517e-02, -2.68617738e-02,  8.39595124e-03,\n",
              "        -4.70404401e-02, -2.31409520e-02, -2.53223274e-02, -4.59206514e-02,\n",
              "        -4.02978361e-02, -2.71532796e-02,  6.04060618e-03, -4.91244644e-02,\n",
              "        -2.31950488e-02, -1.62396710e-02, -1.27527434e-02, -1.83221474e-02,\n",
              "        -9.51229502e-03, -2.39472203e-02, -5.14745302e-02, -1.28957797e-02,\n",
              "        -4.87010600e-03, -1.96195059e-02, -3.06321792e-02, -3.08980457e-02,\n",
              "        -5.05493842e-02, -2.64264289e-02, -5.53817600e-02, -4.68931124e-02,\n",
              "        -2.97747422e-02, -3.31466421e-02, -3.90135646e-02, -1.78697910e-02,\n",
              "        -1.42293889e-02, -2.37859637e-02, -3.24452878e-03,  9.87904239e-03,\n",
              "        -3.95874754e-02, -2.35241037e-02, -1.54495742e-02, -3.56014594e-02,\n",
              "        -2.87687089e-02, -2.86953691e-02,  6.27282321e-01, -9.90125258e-03,\n",
              "        -1.55537855e-02, -2.29434259e-02, -2.63007451e-02, -1.28279906e-02,\n",
              "         1.19496621e-02, -2.61965599e-02, -5.31832278e-02, -2.06304025e-02,\n",
              "        -6.20413525e-03, -7.15869898e-03, -3.71493399e-02, -2.61189546e-02,\n",
              "        -2.76464522e-02, -1.26510793e-02, -3.81883867e-02, -1.95667036e-02,\n",
              "        -7.29415508e-04, -1.70362536e-02, -2.07873546e-02, -2.50184238e-02,\n",
              "         6.86615100e-03, -2.88683157e-02, -3.69955935e-02,  6.71230548e-04,\n",
              "        -2.18637977e-02, -1.40139870e-02, -1.14478869e-02, -3.11399288e-02,\n",
              "        -3.19691598e-02,  2.39871629e-02, -2.37396788e-02, -2.12495066e-02,\n",
              "        -2.35539321e-02, -1.83446817e-02, -2.66813692e-02, -2.77349204e-02,\n",
              "        -1.77600440e-02, -2.89151911e-03, -3.70092392e-02, -5.85183240e-02,\n",
              "         5.27476728e-01, -7.47770816e-02, -3.33666801e-02, -1.70592200e-02,\n",
              "        -3.86933200e-02, -2.94524040e-02,  1.33605227e-02, -2.06668340e-02,\n",
              "        -1.05651431e-02, -2.38482431e-02, -5.21457940e-03, -2.05237605e-02,\n",
              "         6.54120557e-03, -6.36773482e-02, -2.14619208e-02, -1.89241190e-02,\n",
              "        -7.63789788e-02, -2.02888492e-02, -4.36814763e-02, -2.03748532e-02,\n",
              "        -3.38923335e-02, -5.51165044e-01, -3.54270190e-02, -3.96509692e-02,\n",
              "        -9.75790620e-03,  1.57259226e-01,  1.39090198e-03, -4.02219221e-02,\n",
              "        -2.88714208e-02, -2.69275680e-02, -6.43334864e-03, -7.67768873e-03,\n",
              "        -1.64979640e-02, -3.21319811e-02, -2.20146794e-02, -5.19411564e-02,\n",
              "        -1.48221031e-02, -1.60582922e-02, -2.64923237e-02, -2.03184299e-02,\n",
              "        -1.48249827e-02, -2.34698337e-02,  1.17303152e-02, -2.55590007e-02,\n",
              "         2.48900894e-03, -1.64101310e-02, -1.27538303e-02, -1.68248918e-02,\n",
              "        -1.59567762e-02, -2.13849917e-02, -2.58799344e-02,  4.33818512e-02,\n",
              "         1.46256825e-02, -1.64967421e-02, -4.58660983e-02, -3.07980068e-02,\n",
              "        -4.35501225e-02, -3.16008776e-02, -2.62601431e-02, -5.05815558e-02,\n",
              "         9.12435632e-03, -1.36025967e-02, -1.21464143e-02, -2.96889395e-02,\n",
              "        -2.89165583e-02, -3.07050087e-02, -2.77616009e-02, -1.80666540e-02,\n",
              "        -1.24510853e-02, -3.59409787e-02,  3.18760239e-02, -2.91576963e-02,\n",
              "        -3.84522304e-02, -1.08147478e-02, -2.36824304e-02, -3.97076942e-02,\n",
              "        -2.87661534e-02, -3.34504172e-02, -2.19841227e-02, -2.32448205e-02,\n",
              "        -1.79473180e-02,  1.84320274e-03, -2.91937534e-02, -2.86760274e-02,\n",
              "        -2.35966463e-02, -1.07040584e+00,  5.32475054e-01, -3.36972252e-03,\n",
              "        -3.65231819e-02, -3.44356783e-02, -3.71505991e-02, -5.30526564e-02,\n",
              "        -4.86857928e-02, -1.80001631e-02, -7.30518438e-03, -3.91855687e-02,\n",
              "        -2.58444846e-02, -5.68067981e-03, -4.11082357e-02,  5.07811503e-03,\n",
              "        -1.54165113e-02, -1.82415154e-02, -1.93923879e-02, -2.43044477e-02,\n",
              "        -1.87650267e-02, -3.71217430e-02, -8.36175978e-02, -6.62463367e-01,\n",
              "        -3.40233520e-02, -3.13397087e-02, -2.58874036e-02, -2.14870069e-02,\n",
              "        -2.98346411e-02, -1.56358145e-02, -1.64783932e-02,  2.31668241e-02,\n",
              "        -2.45806668e-02, -1.78442672e-02, -4.23547365e-02, -2.21451279e-02,\n",
              "        -4.48850058e-02, -4.54674959e-02, -1.01326341e-02,  1.80983823e-02,\n",
              "         4.84364666e-03,  8.29534885e-03, -2.01223809e-02, -2.99888197e-02,\n",
              "        -1.16684278e-02, -2.71860193e-02, -2.29349937e-02, -3.85910757e-02,\n",
              "         1.22098913e-02, -2.24077571e-02,  1.20979622e-02,  5.64654395e-02,\n",
              "        -2.53289975e-02, -2.15995181e-02, -1.41402315e-02, -4.90314094e-03,\n",
              "        -1.61595177e-02,  1.30705093e-03, -1.99426115e-02, -3.40842381e-02,\n",
              "         2.41664909e-02, -1.23329582e-02,  5.41669503e-03, -2.48203836e-02,\n",
              "         7.34834652e-03, -1.07169831e-02, -1.94122810e-02, -1.95617061e-02,\n",
              "        -1.39335860e-02, -5.49546070e-02, -2.33484022e-02,  2.44160313e-02,\n",
              "         3.60566266e-02, -8.88787024e-03, -1.94762752e-03,  1.52945399e-01,\n",
              "        -4.40224819e-02, -4.78234589e-02, -4.69244346e-02, -2.12666150e-02,\n",
              "        -9.57583427e-01, -1.00312978e-02,  3.25224269e-03, -2.89722020e-03,\n",
              "        -9.44229681e-03, -3.42880487e-02, -3.51715609e-02, -5.98358251e-02,\n",
              "        -2.21361127e-02, -3.48156132e-02, -3.29308100e-02, -1.56117883e-02,\n",
              "        -1.44133726e-02, -2.88528707e-02, -2.88932063e-02, -1.09738624e-02,\n",
              "        -2.90618856e-02, -8.25567637e-03, -2.11209413e-02, -3.27044465e-02,\n",
              "        -4.27602977e-02, -3.53037640e-02, -3.63541245e-02, -3.28699648e-02,\n",
              "        -2.18897196e-03, -3.29196230e-02, -4.88451822e-03, -8.23087152e-03,\n",
              "        -1.05931815e-02, -4.32308279e-02, -9.88999600e-05, -1.72767173e-02,\n",
              "        -2.53584106e-02,  2.10743537e-03, -4.49958146e-02, -1.44888759e-02,\n",
              "        -4.14529070e-02, -1.43567268e-02, -1.57567635e-02, -5.78544885e-02,\n",
              "        -8.80545471e-03, -6.34112209e-02, -2.53037643e-02, -1.23979263e-02,\n",
              "        -2.61274409e-02, -3.45060304e-02, -1.10975774e-02, -2.00724993e-02,\n",
              "        -5.35028912e-02, -2.80334838e-02, -2.77481172e-02, -1.75427869e-02,\n",
              "        -1.27971880e-02, -3.96128967e-02,  4.11982350e-02, -1.09079089e-02,\n",
              "        -1.49604119e-03,  2.38081049e-02, -1.89888533e-02,  1.97593193e-03,\n",
              "        -2.20722668e-02, -4.62837555e-02, -3.75288390e-02, -4.15874086e-03,\n",
              "        -2.15498526e-02, -1.00584105e-02, -2.06625909e-02, -2.84934584e-02,\n",
              "         2.90510450e-02, -1.01996688e-02, -1.73089281e-02, -2.54529025e-02,\n",
              "         2.25727469e-01, -9.28526558e-03, -2.61577703e-02, -1.56258065e-02,\n",
              "        -6.03362881e-02, -2.99238283e-02, -2.86403745e-02, -4.53497171e-02,\n",
              "        -5.69858309e-03, -8.24365299e-03, -2.21758652e-02, -5.36395386e-02,\n",
              "         1.44825339e+00, -3.51612791e-02, -1.99520066e-02, -1.28583647e-02,\n",
              "        -1.48294973e+00, -3.55679318e-02, -3.89908589e-02, -1.84489284e-02,\n",
              "        -3.64042222e-02, -2.45901626e-02, -1.62020884e-02, -1.43781034e-02,\n",
              "        -4.28207107e-02, -3.78711708e-02, -2.33095698e-02, -1.42160552e-02,\n",
              "        -8.23254064e-02, -8.30984674e-03,  4.50704455e-01, -1.21657271e-02,\n",
              "        -3.43662761e-02, -1.08246580e-02, -8.55390541e-03,  7.23104775e-02,\n",
              "        -1.45406546e-02, -9.28816386e-03, -2.55408864e-02,  7.34057976e-03,\n",
              "        -1.86372735e-02, -1.16320308e-02, -2.59519685e-02, -4.86734882e-03,\n",
              "         3.12398244e-02, -4.57770750e-02, -2.29809945e-03, -2.23679598e-02,\n",
              "         1.73527300e-02, -7.82289028e-01, -2.14913450e-02, -2.46823691e-02,\n",
              "        -4.27600890e-02, -2.72721201e-02, -3.99302058e-02, -6.06330670e-02,\n",
              "         7.75728561e-03, -1.55378543e-02, -6.90376759e-02,  4.21618950e-03,\n",
              "        -2.72386894e-02, -8.80418997e-03,  2.38900967e-02, -2.67625344e-03,\n",
              "        -2.79890634e-02, -2.63260789e-02, -1.87602676e-02, -3.04828305e-03,\n",
              "        -1.11349989e-02, -2.34870333e-02,  3.01931938e-03, -1.41722634e-02,\n",
              "        -1.72804371e-02, -2.69745700e-02, -3.09340656e-02, -4.55030054e-02,\n",
              "        -5.05004264e-02, -1.46594746e-02, -3.90659086e-02,  9.51988343e-03,\n",
              "        -9.59280226e-03,  6.07018266e-03, -7.37542985e-03, -1.94115266e-02,\n",
              "        -2.02799775e-02, -8.85665193e-02, -9.51579958e-03,  1.46393859e+00,\n",
              "        -4.83574457e-02, -4.89106067e-02, -1.86846424e-02,  7.36046731e-02,\n",
              "        -3.21312919e-02, -4.80439812e-02, -3.74550819e-02, -1.37624722e-02,\n",
              "        -2.47469060e-02, -1.55774215e-02, -3.17862220e-02, -2.08908208e-02,\n",
              "         8.87296915e-01, -2.33502928e-02, -1.52848102e-02, -2.89012492e-03,\n",
              "        -2.11168770e-02,  5.25545981e-03, -2.10845135e-02, -3.97676155e-02,\n",
              "        -2.39395071e-02, -4.70687412e-02, -1.94559246e-02, -1.95208136e-02,\n",
              "        -2.71407403e-02, -1.03616687e-02,  6.43358054e-03, -8.83772224e-03,\n",
              "         6.25563204e-01, -4.09126328e-03, -3.17382365e-02, -1.08370287e-02,\n",
              "        -9.17139091e-03, -1.76701229e-02, -3.96010764e-02, -9.88576375e-03,\n",
              "        -3.99412960e-02, -1.65832136e-02,  5.92743643e-02, -2.63011195e-02,\n",
              "        -1.71054620e-02, -1.81255639e-02, -7.01012276e-03, -2.30226945e-03,\n",
              "        -3.39801274e-02, -2.20304187e-02, -1.11588221e-02, -3.55924591e-02,\n",
              "        -2.68243439e-02, -4.29197066e-02, -4.84879948e-02, -9.07193031e-03,\n",
              "        -6.16566874e-02, -5.45663796e-02, -1.24435769e-02, -3.27695608e-02,\n",
              "        -1.89631153e-02,  1.88541468e-02,  3.58399674e-02, -7.31709972e-02,\n",
              "        -2.31451821e-02, -3.10049411e-02, -3.69832255e-02, -1.30981002e-02,\n",
              "        -2.89780293e-02, -2.92310249e-02, -2.64642872e-02, -2.54801195e-02],\n",
              "       dtype=float32),\n",
              " array([[-0.05261784, -0.08766262,  0.10439377, ...,  0.04930849,\n",
              "         -0.06297035, -0.03560361],\n",
              "        [ 0.0225849 , -0.01127386, -0.08992557, ..., -0.00287761,\n",
              "         -0.06761949,  0.00449548],\n",
              "        [-0.09260026,  0.05600557,  0.0184964 , ..., -0.03514593,\n",
              "         -0.05729064,  0.03581369],\n",
              "        ...,\n",
              "        [-0.0286434 , -0.01495133,  0.0457969 , ..., -0.08054361,\n",
              "         -0.0318133 ,  0.07276953],\n",
              "        [-0.02943432,  0.07542184, -0.08009353, ..., -0.10130491,\n",
              "          0.03112436,  0.02982867],\n",
              "        [ 0.0329253 ,  0.09023505, -0.0614494 , ...,  0.01908554,\n",
              "          0.07827234,  0.00188492]], dtype=float32),\n",
              " array([ 0.19305497, -1.4904159 ,  0.6792489 ,  0.10823707, -0.2825823 ,\n",
              "        -0.46040457,  1.2769225 , -0.78884405,  0.13019027, -2.152883  ],\n",
              "       dtype=float32)]"
            ]
          },
          "metadata": {},
          "execution_count": 12
        }
      ]
    },
    {
      "cell_type": "code",
      "metadata": {
        "colab": {
          "base_uri": "https://localhost:8080/"
        },
        "id": "BfdvYQpNeln1",
        "outputId": "0e6a2435-9cc3-4f5a-9328-1030e871fc65"
      },
      "source": [
        "y_pred = model.predict(x_test)\n",
        "y_pred"
      ],
      "execution_count": 13,
      "outputs": [
        {
          "output_type": "execute_result",
          "data": {
            "text/plain": [
              "array([[1.11513227e-01, 2.22280137e-02, 1.57352313e-01, ...,\n",
              "        5.08804321e-02, 1.24668688e-01, 1.30946394e-02],\n",
              "       [1.12699665e-01, 1.99728180e-02, 1.90261096e-01, ...,\n",
              "        1.60180461e-02, 1.00658312e-01, 4.96349111e-03],\n",
              "       [1.41052812e-01, 3.15590054e-02, 1.08449027e-01, ...,\n",
              "        6.79778304e-06, 1.11271553e-01, 7.71468272e-04],\n",
              "       ...,\n",
              "       [1.18875511e-01, 2.14822367e-02, 1.85021594e-01, ...,\n",
              "        2.29640689e-04, 1.05253190e-01, 4.56567714e-03],\n",
              "       [1.30706161e-01, 2.68601738e-02, 1.26507506e-01, ...,\n",
              "        2.88477313e-04, 1.18999951e-01, 3.35860392e-03],\n",
              "       [7.84591958e-02, 1.87536478e-02, 1.40305832e-01, ...,\n",
              "        7.54279420e-02, 1.77227542e-01, 1.90004092e-02]], dtype=float32)"
            ]
          },
          "metadata": {},
          "execution_count": 13
        }
      ]
    },
    {
      "cell_type": "code",
      "metadata": {
        "colab": {
          "base_uri": "https://localhost:8080/"
        },
        "id": "OtJd0Trvgnu8",
        "outputId": "a9f1eac0-0397-4921-d43e-5f14c6bf89e4"
      },
      "source": [
        "#y_pred = model.predict(x_test)    this gives only probability\n",
        "import numpy as np\n",
        "y_pred = np.argmax(y_pred,axis =1)\n",
        "y_pred"
      ],
      "execution_count": 14,
      "outputs": [
        {
          "output_type": "execute_result",
          "data": {
            "text/plain": [
              "array([6, 6, 6, ..., 6, 6, 6])"
            ]
          },
          "metadata": {},
          "execution_count": 14
        }
      ]
    },
    {
      "cell_type": "code",
      "metadata": {
        "id": "kgE_hq2PgxSD",
        "colab": {
          "base_uri": "https://localhost:8080/"
        },
        "outputId": "89079012-2120-4995-c4a4-cf3300a7c01f"
      },
      "source": [
        "y_test"
      ],
      "execution_count": 15,
      "outputs": [
        {
          "output_type": "execute_result",
          "data": {
            "text/plain": [
              "array([9, 2, 1, ..., 8, 1, 5], dtype=uint8)"
            ]
          },
          "metadata": {},
          "execution_count": 15
        }
      ]
    },
    {
      "cell_type": "code",
      "metadata": {
        "id": "Lzqs4yIZjUlY",
        "colab": {
          "base_uri": "https://localhost:8080/"
        },
        "outputId": "5edc19c6-dadc-41ef-95a9-d1f4e76130a1"
      },
      "source": [
        "from sklearn.metrics import accuracy_score\n",
        "accuracy_score(y_test,y_pred)"
      ],
      "execution_count": 16,
      "outputs": [
        {
          "output_type": "execute_result",
          "data": {
            "text/plain": [
              "0.1281"
            ]
          },
          "metadata": {},
          "execution_count": 16
        }
      ]
    },
    {
      "cell_type": "code",
      "metadata": {
        "colab": {
          "base_uri": "https://localhost:8080/",
          "height": 282
        },
        "id": "G66-Ypv2liGj",
        "outputId": "686bafe4-7c61-4409-8f8b-7979a3278652"
      },
      "source": [
        "y_pred = model.predict(x_test[67].reshape(1,28,28))\n",
        "y_pred = np.argmax(y_pred)\n",
        "y_pred\n",
        "plt.imshow(x_test[67])\n",
        "print([label[y_pred]])"
      ],
      "execution_count": 20,
      "outputs": [
        {
          "output_type": "stream",
          "name": "stdout",
          "text": [
            "['shirt']\n"
          ]
        },
        {
          "output_type": "display_data",
          "data": {
            "image/png": "[encoded data removed]",
            "text/plain": [
              "<Figure size 432x288 with 1 Axes>"
            ]
          },
          "metadata": {
            "needs_background": "light"
          }
        }
      ]
    }
  ]
}