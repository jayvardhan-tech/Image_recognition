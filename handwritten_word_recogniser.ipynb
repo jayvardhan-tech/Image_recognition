{
  "nbformat": 4,
  "nbformat_minor": 0,
  "metadata": {
    "colab": {
      "name": "handwritten_word_recogniser.ipynb",
      "provenance": [],
      "authorship_tag": "ABX9TyOssCEbWq8egxR6ztDLrPHH",
      "include_colab_link": true
    },
    "kernelspec": {
      "name": "python3",
      "display_name": "Python 3"
    },
    "language_info": {
      "name": "python"
    }
  },
  "cells": [
    {
      "cell_type": "markdown",
      "metadata": {
        "id": "view-in-github",
        "colab_type": "text"
      },
      "source": [
        "<a href=\"https://colab.research.google.com/github/jayvardhan-tech/Image_recognition/blob/main/handwritten_word_recogniser.ipynb\" target=\"_parent\"><img src=\"https://colab.research.google.com/assets/colab-badge.svg\" alt=\"Open In Colab\"/></a>"
      ]
    },
    {
      "cell_type": "code",
      "metadata": {
        "id": "teNyQuSsEfWO"
      },
      "source": [
        "from tensorflow.keras.datasets import mnist\n"
      ],
      "execution_count": 1,
      "outputs": []
    },
    {
      "cell_type": "code",
      "metadata": {
        "id": "OcafWwyrF2-W",
        "colab": {
          "base_uri": "https://localhost:8080/"
        },
        "outputId": "eeb5172d-e5b2-48c1-c63a-2b799a6ce166"
      },
      "source": [
        "(x_train,y_train),(x_test,y_test) = mnist.load_data()"
      ],
      "execution_count": 2,
      "outputs": [
        {
          "output_type": "stream",
          "name": "stdout",
          "text": [
            "Downloading data from https://storage.googleapis.com/tensorflow/tf-keras-datasets/mnist.npz\n",
            "11493376/11490434 [==============================] - 0s 0us/step\n",
            "11501568/11490434 [==============================] - 0s 0us/step\n"
          ]
        }
      ]
    },
    {
      "cell_type": "code",
      "metadata": {
        "colab": {
          "base_uri": "https://localhost:8080/"
        },
        "id": "drBr-2IVGRJi",
        "outputId": "948b454b-1b16-4d03-f87c-f8d913478d82"
      },
      "source": [
        "print(x_train.shape)\n",
        "print(x_test.shape)\n",
        "print(y_train.shape)\n",
        "print(y_test.shape)"
      ],
      "execution_count": 3,
      "outputs": [
        {
          "output_type": "stream",
          "name": "stdout",
          "text": [
            "(60000, 28, 28)\n",
            "(10000, 28, 28)\n",
            "(60000,)\n",
            "(10000,)\n"
          ]
        }
      ]
    },
    {
      "cell_type": "code",
      "metadata": {
        "colab": {
          "base_uri": "https://localhost:8080/"
        },
        "id": "zgZU89vLGh4E",
        "outputId": "ce2d154a-6978-41e1-ed7c-d4c39a27e104"
      },
      "source": [
        "x_train[100].max()"
      ],
      "execution_count": 4,
      "outputs": [
        {
          "output_type": "execute_result",
          "data": {
            "text/plain": [
              "255"
            ]
          },
          "metadata": {},
          "execution_count": 4
        }
      ]
    },
    {
      "cell_type": "code",
      "metadata": {
        "colab": {
          "base_uri": "https://localhost:8080/"
        },
        "id": "HdVIHczhG3Jr",
        "outputId": "966feb0c-fcbf-43f7-e2f0-fb56332a1faa"
      },
      "source": [
        "x_train[100].min()"
      ],
      "execution_count": 5,
      "outputs": [
        {
          "output_type": "execute_result",
          "data": {
            "text/plain": [
              "0"
            ]
          },
          "metadata": {},
          "execution_count": 5
        }
      ]
    },
    {
      "cell_type": "code",
      "metadata": {
        "id": "bXjey0FKG_dj"
      },
      "source": [
        "x_train = x_train/255.0"
      ],
      "execution_count": 6,
      "outputs": []
    },
    {
      "cell_type": "code",
      "metadata": {
        "id": "4kxvsRhhHMgF"
      },
      "source": [
        "x_test = x_test/255.0"
      ],
      "execution_count": 7,
      "outputs": []
    },
    {
      "cell_type": "code",
      "metadata": {
        "colab": {
          "base_uri": "https://localhost:8080/"
        },
        "id": "nY5rbd7rHS8d",
        "outputId": "13aa3533-6f12-4b04-c027-f7ad4673271f"
      },
      "source": [
        "x_train[100].max()"
      ],
      "execution_count": 8,
      "outputs": [
        {
          "output_type": "execute_result",
          "data": {
            "text/plain": [
              "1.0"
            ]
          },
          "metadata": {},
          "execution_count": 8
        }
      ]
    },
    {
      "cell_type": "code",
      "metadata": {
        "colab": {
          "base_uri": "https://localhost:8080/"
        },
        "id": "DElap9fQHdD7",
        "outputId": "5a10e15d-c509-471c-a1ef-d43085835134"
      },
      "source": [
        "x_train[100].min()"
      ],
      "execution_count": 9,
      "outputs": [
        {
          "output_type": "execute_result",
          "data": {
            "text/plain": [
              "0.0"
            ]
          },
          "metadata": {},
          "execution_count": 9
        }
      ]
    },
    {
      "cell_type": "code",
      "metadata": {
        "colab": {
          "base_uri": "https://localhost:8080/",
          "height": 282
        },
        "id": "nNP7NP8xHl1V",
        "outputId": "bf68748f-008f-4e1a-e262-d4afffde5069"
      },
      "source": [
        "import matplotlib.pyplot as plt\n",
        "plt.imshow(x_train[10],cmap = 'gray')\n",
        "plt.show()\n",
        "print(f\"output :{[y_train[10]]}\")"
      ],
      "execution_count": 10,
      "outputs": [
        {
          "output_type": "display_data",
          "data": {
            "image/png": "[encoded data removed]",
            "text/plain": [
              "<Figure size 432x288 with 1 Axes>"
            ]
          },
          "metadata": {
            "needs_background": "light"
          }
        },
        {
          "output_type": "stream",
          "name": "stdout",
          "text": [
            "output :[3]\n"
          ]
        }
      ]
    },
    {
      "cell_type": "code",
      "metadata": {
        "id": "wVI9OUuTIfsr"
      },
      "source": [
        "from tensorflow import keras\n",
        "model = keras.models.Sequential()\n",
        "model.add(keras.layers.Flatten())\n",
        "model.add(keras.layers.Dense(512,input_shape = (28,28), activation = 'relu'))\n",
        "model.add(keras.layers.Dense(10,activation = 'softmax'))"
      ],
      "execution_count": 11,
      "outputs": []
    },
    {
      "cell_type": "code",
      "metadata": {
        "id": "J2q_p16oJy69"
      },
      "source": [
        "model.compile(optimizer= 'adam', loss = 'sparse_categorical_crossentropy', metrics = ['accuracy'])"
      ],
      "execution_count": 12,
      "outputs": []
    },
    {
      "cell_type": "code",
      "metadata": {
        "colab": {
          "base_uri": "https://localhost:8080/"
        },
        "id": "Rfaz2zsEKMmT",
        "outputId": "7b839dc1-a44f-4ed8-d925-1d9981a51305"
      },
      "source": [
        "model.fit(x_train,y_train,epochs=10)"
      ],
      "execution_count": 13,
      "outputs": [
        {
          "output_type": "stream",
          "name": "stdout",
          "text": [
            "Epoch 1/10\n",
            "1875/1875 [==============================] - 9s 5ms/step - loss: 0.2019 - accuracy: 0.9400\n",
            "Epoch 2/10\n",
            "1875/1875 [==============================] - 9s 5ms/step - loss: 0.0796 - accuracy: 0.9751\n",
            "Epoch 3/10\n",
            "1875/1875 [==============================] - 9s 5ms/step - loss: 0.0524 - accuracy: 0.9834\n",
            "Epoch 4/10\n",
            "1875/1875 [==============================] - 8s 4ms/step - loss: 0.0368 - accuracy: 0.9884\n",
            "Epoch 5/10\n",
            "1875/1875 [==============================] - 8s 5ms/step - loss: 0.0271 - accuracy: 0.9916\n",
            "Epoch 6/10\n",
            "1875/1875 [==============================] - 8s 4ms/step - loss: 0.0210 - accuracy: 0.9933\n",
            "Epoch 7/10\n",
            "1875/1875 [==============================] - 8s 5ms/step - loss: 0.0178 - accuracy: 0.9940\n",
            "Epoch 8/10\n",
            "1875/1875 [==============================] - 9s 5ms/step - loss: 0.0140 - accuracy: 0.9955\n",
            "Epoch 9/10\n",
            "1875/1875 [==============================] - 9s 5ms/step - loss: 0.0130 - accuracy: 0.9955\n",
            "Epoch 10/10\n",
            "1875/1875 [==============================] - 8s 5ms/step - loss: 0.0116 - accuracy: 0.9960\n"
          ]
        },
        {
          "output_type": "execute_result",
          "data": {
            "text/plain": [
              "<keras.callbacks.History at 0x7f75994a0d90>"
            ]
          },
          "metadata": {},
          "execution_count": 13
        }
      ]
    },
    {
      "cell_type": "code",
      "metadata": {
        "colab": {
          "base_uri": "https://localhost:8080/"
        },
        "id": "xwCUP45sKt43",
        "outputId": "cd9f26ac-a444-4096-c0bb-bdd5c7c0dd7d"
      },
      "source": [
        "model.get_weights()"
      ],
      "execution_count": 14,
      "outputs": [
        {
          "output_type": "execute_result",
          "data": {
            "text/plain": [
              "[array([[-0.05734787,  0.03430487, -0.01281913, ...,  0.05893949,\n",
              "         -0.00977626, -0.0178128 ],\n",
              "        [ 0.03287327,  0.03604764, -0.01309799, ..., -0.03045191,\n",
              "          0.02311103,  0.01489515],\n",
              "        [-0.03285048, -0.04775348,  0.03420723, ...,  0.00565854,\n",
              "          0.03599095,  0.02200971],\n",
              "        ...,\n",
              "        [-0.0413599 ,  0.04761586, -0.00032727, ..., -0.02572795,\n",
              "         -0.01434901,  0.06235573],\n",
              "        [-0.04703458,  0.01334383,  0.0049255 , ...,  0.06705929,\n",
              "          0.03275509, -0.04626749],\n",
              "        [ 0.00149544, -0.05277851,  0.02434344, ...,  0.05546986,\n",
              "         -0.00348344,  0.02617496]], dtype=float32),\n",
              " array([-3.23039293e-02, -9.71434340e-02,  2.58490071e-02,  1.43083915e-01,\n",
              "         3.76812462e-03, -1.00230575e-01,  2.54839007e-02,  1.62286730e-03,\n",
              "         4.41510715e-02, -3.37633491e-02, -3.87248136e-02, -1.04500622e-01,\n",
              "        -4.29543629e-02, -2.37681530e-02, -4.39396203e-02, -4.15140530e-03,\n",
              "         2.34977948e-03, -6.31823912e-02, -6.51674792e-02,  6.89505935e-02,\n",
              "        -6.94337413e-02, -1.54659122e-01, -3.32729332e-03,  1.75259393e-02,\n",
              "         1.49183154e-01, -8.81218687e-02,  4.13864926e-02, -2.08385438e-02,\n",
              "         1.27208963e-01, -4.04406562e-02,  1.64939404e-01,  6.97364192e-03,\n",
              "        -7.66294226e-02,  1.02559634e-01, -8.44391435e-03,  3.56639661e-02,\n",
              "         1.02233766e-02,  5.86424954e-02, -7.22281337e-02, -4.51570041e-02,\n",
              "         2.17821300e-01, -9.89276264e-03, -6.44272342e-02,  1.30709320e-01,\n",
              "        -9.16097313e-02, -9.87455398e-02, -1.08437933e-01, -6.28983602e-03,\n",
              "         1.48339689e-01,  1.17026344e-01,  1.08696274e-01, -3.48341540e-02,\n",
              "        -1.16102919e-01, -1.74330864e-02, -1.09577611e-01, -1.03175327e-01,\n",
              "        -1.46724172e-02, -2.09961701e-02, -8.36302489e-02,  1.73725206e-02,\n",
              "         4.08403911e-02, -9.24794972e-02,  1.25350887e-02,  4.45822603e-04,\n",
              "        -1.03414521e-01, -6.41753301e-02, -6.17379248e-02, -4.94355038e-02,\n",
              "         3.06334943e-02, -1.73309922e-01, -1.03308775e-01,  3.46235782e-02,\n",
              "         5.15810177e-02, -8.13289061e-02, -1.56499773e-01, -1.07105270e-01,\n",
              "        -3.16361487e-02, -2.92597804e-02,  1.30787149e-01, -1.25828847e-01,\n",
              "         8.00329223e-02,  8.45946893e-02, -3.05337738e-03, -1.39401883e-01,\n",
              "        -6.93504279e-03, -6.14448590e-03, -1.87070936e-01, -2.48314831e-02,\n",
              "         7.33302673e-03, -2.80638635e-02, -6.82738647e-02, -2.01548170e-02,\n",
              "        -1.75795518e-02,  5.27611151e-02, -9.26974565e-02,  5.12594655e-02,\n",
              "        -2.13294686e-03,  9.31336656e-02, -1.75001286e-02,  8.61123204e-02,\n",
              "         5.80696575e-02,  1.48153782e-03, -6.40267581e-02,  1.51881486e-01,\n",
              "        -8.29284936e-02,  6.97091594e-02,  7.79310912e-02, -1.44249246e-01,\n",
              "        -2.13206820e-02,  2.25056484e-02, -7.67895505e-02, -6.08517602e-02,\n",
              "        -1.21554576e-01,  8.35820660e-03, -2.57458240e-02, -1.43488273e-01,\n",
              "        -5.91715090e-02, -1.04637854e-01, -4.33005765e-03, -5.05824424e-02,\n",
              "        -5.88686466e-02, -7.35192820e-02,  8.26356485e-02, -4.15566331e-03,\n",
              "         3.25907134e-02,  4.41003442e-02, -3.50951664e-02, -1.41350878e-02,\n",
              "         2.90894918e-02, -4.98007424e-02, -1.48167595e-01,  1.20787891e-02,\n",
              "         9.87978652e-03,  2.43661050e-02,  9.43613946e-02,  1.10774547e-01,\n",
              "         4.61163335e-02, -1.93069056e-02,  1.42608330e-01, -5.66919595e-02,\n",
              "        -3.98883447e-02, -5.59687838e-02, -2.59069465e-02, -3.61062288e-02,\n",
              "        -2.75855679e-02,  1.15384467e-01,  7.77966455e-02,  8.87094140e-02,\n",
              "         9.23877291e-04,  4.94112223e-02, -8.39653332e-03,  4.74408362e-03,\n",
              "         1.41541153e-01, -9.92732644e-02,  2.13781634e-04, -5.10833822e-02,\n",
              "         1.46821752e-01, -4.86531518e-02, -7.47677637e-03,  1.06454372e-01,\n",
              "         6.59541646e-03, -3.33836079e-02, -4.95429672e-02, -4.57290225e-02,\n",
              "         2.76927860e-03,  8.06041993e-03, -6.79630861e-02,  2.16855966e-02,\n",
              "        -1.65691674e-01, -7.69972950e-02, -8.39617997e-02,  5.64638199e-03,\n",
              "         1.86134540e-02, -6.42837659e-02,  3.81096900e-02,  8.96808803e-02,\n",
              "         8.86585470e-03,  3.97233665e-02,  7.39943003e-03, -3.35797993e-03,\n",
              "        -1.55256107e-01, -1.11469164e-01,  5.90210333e-02,  2.10804660e-02,\n",
              "         1.58286840e-02, -6.08178750e-02,  4.12558429e-02,  5.69639802e-02,\n",
              "        -9.33626890e-02, -1.02853224e-01,  7.64876381e-02, -4.43780236e-02,\n",
              "        -1.14334062e-01, -1.43030062e-02,  1.16565023e-02,  1.11653961e-01,\n",
              "        -6.59378022e-02,  5.27362190e-02,  1.09247483e-01, -9.96208787e-02,\n",
              "        -7.34875053e-02, -3.44639532e-02, -9.33758095e-02,  9.83150750e-02,\n",
              "        -3.39126796e-03,  6.56023100e-02, -1.25180651e-02,  5.69810793e-02,\n",
              "         4.40510698e-02, -5.21702133e-02, -3.50587629e-03, -7.43745118e-02,\n",
              "        -6.50173798e-02, -3.51652801e-02, -5.89696467e-02,  6.55289665e-02,\n",
              "        -6.93708733e-02, -2.71568485e-02, -3.73630715e-03, -4.93631326e-02,\n",
              "        -7.78910890e-02, -8.42636526e-02, -2.39896122e-02,  1.76069602e-01,\n",
              "         2.38907449e-02, -1.70586593e-02,  2.61195539e-03, -2.45282724e-02,\n",
              "         1.46079481e-01, -5.19218966e-02,  3.36757079e-02, -3.20955664e-02,\n",
              "         3.45313028e-02, -7.47451782e-02, -3.73714454e-02, -2.47105565e-02,\n",
              "         6.23321012e-02,  1.42991086e-02, -5.79112023e-02, -7.10881352e-02,\n",
              "        -1.17119635e-02,  4.39617038e-02, -1.20448917e-01,  1.00777168e-02,\n",
              "         8.68420582e-03,  8.54723807e-03,  7.82495737e-02,  4.12532911e-02,\n",
              "         1.58466205e-01, -1.02112204e-01,  5.41464798e-03,  7.92928040e-02,\n",
              "         9.74549279e-02, -5.24518974e-02, -8.19683671e-02, -7.06613138e-02,\n",
              "        -7.99592957e-02, -1.43663688e-02, -3.99045162e-02,  1.16437845e-01,\n",
              "        -7.09344521e-02,  5.49305230e-02, -8.22957978e-03, -5.35797775e-02,\n",
              "         4.44277525e-02,  1.63986417e-03, -4.02414687e-02,  3.78775457e-03,\n",
              "         2.48273369e-02,  1.69157356e-01, -9.12587270e-02,  2.27109659e-02,\n",
              "         6.99500665e-02,  4.23510447e-02, -7.43325334e-03,  1.88466571e-02,\n",
              "        -5.17291985e-02,  2.26184651e-02, -7.91972876e-02,  3.92366499e-02,\n",
              "        -2.66168034e-03, -6.40250891e-02, -5.93450405e-02,  6.84728995e-02,\n",
              "         3.21579762e-02,  3.18451747e-02, -1.32174995e-02,  9.09953937e-02,\n",
              "        -5.32050095e-02, -8.68913978e-02,  1.52041866e-02, -8.42421874e-02,\n",
              "        -5.24979644e-02, -1.04013078e-01, -1.06175445e-01,  4.43899147e-02,\n",
              "        -4.94017266e-02, -1.12306535e-01,  1.18548967e-01,  1.35946209e-02,\n",
              "        -4.79756221e-02,  4.73414324e-02,  1.70367450e-01, -1.23884425e-01,\n",
              "         2.03273922e-01, -4.97185178e-02,  8.95265788e-02,  2.77748387e-02,\n",
              "         3.14071663e-02, -5.49258105e-02, -1.65463030e-01,  4.48690280e-02,\n",
              "        -6.38207570e-02, -9.18020010e-02, -4.34439629e-02, -1.18366294e-01,\n",
              "        -9.11650658e-02, -9.30522010e-03,  4.42858087e-03,  8.78965855e-02,\n",
              "        -2.35314056e-01, -4.04540114e-02, -4.76588905e-02,  5.05543351e-02,\n",
              "        -1.09217931e-02, -5.98167032e-02,  8.57146382e-02,  7.14253113e-02,\n",
              "        -1.55645702e-02, -1.21094584e-01, -3.23723331e-02, -5.71485385e-02,\n",
              "        -5.56449182e-02,  1.92834418e-02,  1.99811682e-02, -1.00151272e-02,\n",
              "         1.59651525e-02, -6.28530094e-03, -1.25257358e-01, -7.48080313e-02,\n",
              "         2.07224265e-02, -7.45785832e-02,  4.17796858e-02, -1.04290321e-02,\n",
              "        -1.57461181e-01,  4.43486162e-02,  2.26144474e-02,  7.93614388e-02,\n",
              "        -2.52550859e-02,  3.16355415e-02,  6.30526319e-02,  7.11018965e-03,\n",
              "        -2.22064611e-02,  1.07841723e-01,  9.39498749e-03, -1.45029239e-02,\n",
              "        -5.97880036e-02, -7.81749748e-03, -6.57699478e-04,  4.76009399e-02,\n",
              "        -1.51974931e-02, -5.59313521e-02,  2.01937426e-02, -1.49462549e-02,\n",
              "        -1.89709640e-03,  1.17437132e-02, -2.09916666e-01,  6.46799654e-02,\n",
              "         3.80572528e-02, -6.50436878e-02,  6.08212501e-02, -6.49246806e-03,\n",
              "        -1.17907196e-03, -4.79984768e-02,  6.14118576e-02,  1.67887300e-01,\n",
              "        -1.47912353e-01, -4.41681519e-02,  8.49419311e-02, -1.07023502e-02,\n",
              "         5.09512052e-02, -3.63710187e-02,  6.90043792e-02, -3.72172445e-02,\n",
              "        -8.46850947e-02,  2.35507458e-01,  5.72558790e-02,  1.48776263e-01,\n",
              "         5.63997179e-02, -1.19492691e-02, -8.33110288e-02, -4.80034240e-02,\n",
              "         1.65266424e-01, -3.56386267e-02,  2.19013151e-02,  1.32427216e-01,\n",
              "         4.74255346e-02, -5.43657504e-02, -8.28223974e-02,  2.64277682e-04,\n",
              "         3.94154601e-02, -2.37913150e-02, -1.91823039e-02,  1.77056435e-02,\n",
              "        -3.72263081e-02, -6.36883676e-02,  2.68420321e-03, -4.48696911e-02,\n",
              "         5.65896444e-02, -5.92321418e-02, -6.96299374e-02,  5.78192212e-02,\n",
              "        -9.75024924e-02,  7.13995397e-02,  3.08508854e-02, -9.70019177e-02,\n",
              "        -1.08227439e-01,  2.03472860e-02, -7.63996039e-03, -1.76370349e-02,\n",
              "         3.33077312e-02,  1.44993976e-01,  1.49664357e-01, -3.39975618e-02,\n",
              "        -4.94402573e-02, -2.02192739e-02,  3.37077528e-02, -4.68270257e-02,\n",
              "        -1.61459461e-01, -5.17113991e-02,  2.19154526e-02, -1.23634532e-01,\n",
              "        -1.51479185e-01, -1.61939442e-01,  5.31560630e-02,  1.24523513e-01,\n",
              "        -9.64425355e-02,  1.14587352e-01, -1.28470913e-01,  1.30752683e-01,\n",
              "         4.42155898e-02, -8.45593438e-02, -3.74259390e-02, -5.98423965e-02,\n",
              "        -7.08834454e-02, -3.32642086e-02,  6.18008897e-02,  1.10210767e-02,\n",
              "        -4.05196212e-02,  5.31397983e-02, -4.79344800e-02,  1.15975030e-01,\n",
              "         2.75443550e-02,  1.55588582e-01,  1.61623918e-02, -5.48782088e-02,\n",
              "        -5.39124794e-02,  1.67462938e-02, -1.43952191e-01, -7.97911137e-02,\n",
              "         2.00383309e-02, -9.12809744e-03,  4.26657423e-02, -1.36189684e-02,\n",
              "         1.34636071e-02,  5.89769855e-02,  3.17675003e-04,  1.31475285e-01,\n",
              "         1.43666118e-01,  1.19382469e-02, -4.41604219e-02,  3.85136530e-02,\n",
              "        -7.67343789e-02, -1.26920128e-02, -6.52473867e-02, -1.05172418e-01,\n",
              "        -3.50169279e-02,  4.35011722e-02, -6.22815080e-02,  5.32556772e-02,\n",
              "        -6.90961555e-02, -7.63085485e-02, -7.43716285e-02, -1.10890523e-01,\n",
              "        -1.07825890e-01, -1.29584134e-01,  9.17119980e-02, -1.80483311e-01,\n",
              "         6.74233139e-02,  2.35033818e-02,  2.96487343e-02,  1.27617689e-02,\n",
              "         3.08318455e-02,  3.29051213e-03, -4.32150885e-02, -9.10893977e-02,\n",
              "         2.40826737e-02, -5.90465292e-02,  1.10305446e-04, -2.03033201e-02,\n",
              "        -6.75736591e-02,  7.15264976e-02,  8.46113637e-02,  6.15557469e-02,\n",
              "         1.22517757e-02,  2.13960320e-01,  8.94030035e-02,  1.37620434e-01,\n",
              "        -5.57560809e-02, -4.28326726e-02, -6.84486469e-03,  7.03948364e-02],\n",
              "       dtype=float32),\n",
              " array([[-0.01527316,  0.04703613,  0.0853352 , ..., -0.29491767,\n",
              "          0.10357948, -0.00971533],\n",
              "        [-0.22704966,  0.14646798, -0.29952636, ...,  0.11054849,\n",
              "          0.09433258,  0.0866414 ],\n",
              "        [ 0.08751522, -0.11094102, -0.08412116, ..., -0.15723899,\n",
              "         -0.16404375,  0.01860509],\n",
              "        ...,\n",
              "        [-0.13131233,  0.05224064,  0.01770981, ...,  0.02284744,\n",
              "          0.12991303, -0.3775202 ],\n",
              "        [ 0.00468646, -0.15803537, -0.09539036, ..., -0.292987  ,\n",
              "          0.3142391 ,  0.2542863 ],\n",
              "        [-0.2220455 , -0.1159323 , -0.5523    , ...,  0.03913474,\n",
              "          0.04030767,  0.0970645 ]], dtype=float32),\n",
              " array([-0.03335243, -0.19343723, -0.04173182, -0.05649288,  0.05896962,\n",
              "        -0.0295926 , -0.05489753, -0.12532343,  0.3136149 ,  0.01533737],\n",
              "       dtype=float32)]"
            ]
          },
          "metadata": {},
          "execution_count": 14
        }
      ]
    },
    {
      "cell_type": "code",
      "metadata": {
        "id": "ucR6wZzBK_Ds"
      },
      "source": [
        "y_pred = model.predict(x_test)"
      ],
      "execution_count": 15,
      "outputs": []
    },
    {
      "cell_type": "code",
      "metadata": {
        "colab": {
          "base_uri": "https://localhost:8080/"
        },
        "id": "SVPA0JgLL6pS",
        "outputId": "ab52c301-f40c-4523-cf6b-3c63a3e137a3"
      },
      "source": [
        "import numpy as np\n",
        "y_pred = np.argmax(y_pred,axis =1)\n",
        "y_pred"
      ],
      "execution_count": 16,
      "outputs": [
        {
          "output_type": "execute_result",
          "data": {
            "text/plain": [
              "array([7, 2, 1, ..., 4, 5, 6])"
            ]
          },
          "metadata": {},
          "execution_count": 16
        }
      ]
    },
    {
      "cell_type": "code",
      "metadata": {
        "colab": {
          "base_uri": "https://localhost:8080/"
        },
        "id": "lpwqpQYbMOWk",
        "outputId": "c863cb83-2142-4dda-dbf1-f9b5fa813b67"
      },
      "source": [
        "y_test"
      ],
      "execution_count": null,
      "outputs": [
        {
          "output_type": "execute_result",
          "data": {
            "text/plain": [
              "array([7, 2, 1, ..., 4, 5, 6], dtype=uint8)"
            ]
          },
          "metadata": {},
          "execution_count": 47
        }
      ]
    },
    {
      "cell_type": "code",
      "metadata": {
        "colab": {
          "base_uri": "https://localhost:8080/"
        },
        "id": "wXFwGl_MMVdk",
        "outputId": "22cc9633-68e9-4156-d941-8f9a61c9014f"
      },
      "source": [
        "from sklearn.metrics import accuracy_score\n",
        "accuracy_score(y_test,y_pred)"
      ],
      "execution_count": 17,
      "outputs": [
        {
          "output_type": "execute_result",
          "data": {
            "text/plain": [
              "0.981"
            ]
          },
          "metadata": {},
          "execution_count": 17
        }
      ]
    },
    {
      "cell_type": "code",
      "metadata": {
        "colab": {
          "base_uri": "https://localhost:8080/",
          "height": 282
        },
        "id": "ryNkdzlSM9Ay",
        "outputId": "ed43652c-1f7a-4d97-cb9d-50369f2d93ac"
      },
      "source": [
        "y_pred = model.predict(x_test[89].reshape(1,28,28))\n",
        "y_pred = np.argmax(y_pred)\n",
        "y_pred\n",
        "plt.imshow(x_test[89])\n",
        "print([y_pred])"
      ],
      "execution_count": 18,
      "outputs": [
        {
          "output_type": "stream",
          "name": "stdout",
          "text": [
            "[1]\n"
          ]
        },
        {
          "output_type": "display_data",
          "data": {
            "image/png": "[encoded data removed]",
            "text/plain": [
              "<Figure size 432x288 with 1 Axes>"
            ]
          },
          "metadata": {
            "needs_background": "light"
          }
        }
      ]
    }
  ]
}